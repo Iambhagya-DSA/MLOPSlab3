{
  "nbformat": 4,
  "nbformat_minor": 0,
  "metadata": {
    "colab": {
      "provenance": []
    },
    "kernelspec": {
      "name": "python3",
      "display_name": "Python 3"
    },
    "language_info": {
      "name": "python"
    }
  },
  "cells": [
    {
      "cell_type": "code",
      "execution_count": 1,
      "metadata": {
        "id": "eVM4RvfzG29W"
      },
      "outputs": [],
      "source": [
        "from sklearn.datasets import load_iris\n",
        "from sklearn.model_selection import train_test_split\n",
        "from sklearn.preprocessing import StandardScaler\n",
        "from sklearn.tree import DecisionTreeClassifier\n",
        "from sklearn.metrics import classification_report"
      ]
    },
    {
      "cell_type": "code",
      "source": [
        "# Step 2: Data Loader Class\n",
        "class DataLoader:\n",
        "   def __init__(self):\n",
        "     self.X, self.y = load_iris(return_X_y=True)\n",
        "   def split(self, test_size=0.3, random_state=42):\n",
        "     return train_test_split(self.X, self.y, test_size=test_size,\n",
        "                             random_state=random_state)"
      ],
      "metadata": {
        "id": "QDXUxpXBHED9"
      },
      "execution_count": 19,
      "outputs": []
    },
    {
      "cell_type": "code",
      "source": [
        "# Step 3: Preprocessor Class\n",
        "class Preprocessor:\n",
        "  def __init__(self):\n",
        "     self.scaler = StandardScaler()\n",
        "  def fit_transform(self, X_train):\n",
        "   return self.scaler.fit_transform(X_train)\n",
        "  def transform(self, X_test):\n",
        "    return self.scaler.transform(X_test)"
      ],
      "metadata": {
        "id": "0r0W8YjSHu40"
      },
      "execution_count": 20,
      "outputs": []
    },
    {
      "cell_type": "code",
      "source": [
        "# Step 4: ML Model Class\n",
        "class MLModel:\n",
        "   def __init__(self):\n",
        "     self.model = DecisionTreeClassifier()\n",
        "   def train(self, X_train, y_train):\n",
        "    self.model.fit(X_train, y_train)\n",
        "   def predict(self, X_test):\n",
        "     return self.model.predict(X_test)"
      ],
      "metadata": {
        "id": "i9vcelQhH7z-"
      },
      "execution_count": 21,
      "outputs": []
    },
    {
      "cell_type": "code",
      "source": [
        "# Step 5: Evaluator Class\n",
        "class Evaluator:\n",
        " def __init__(self, y_true, y_pred):\n",
        "   self.y_true = y_true\n",
        "   self.y_pred = y_pred\n",
        " def report(self):\n",
        "  print(\" Classification Report:\\n\")\n",
        "  print(classification_report(self.y_true, self.y_pred))"
      ],
      "metadata": {
        "id": "j8AM8HBmImed"
      },
      "execution_count": 22,
      "outputs": []
    },
    {
      "cell_type": "code",
      "source": [
        "# Step 6: Main ML Application Class\n",
        "class MLApplication:\n",
        " def __init__(self):\n",
        "  self.loader = DataLoader()\n",
        "  self.preprocessor = Preprocessor()\n",
        "  self.model = MLModel()\n",
        " def run(self):\n",
        " # Load and split data\n",
        "   X_train, X_test, y_train, y_test = self.loader.split()\n",
        "   X_train_scaled = self.preprocessor.fit_transform(X_train)\n",
        "   X_test_scaled = self.preprocessor.transform(X_test)\n",
        "   self.model.train(X_train_scaled, y_train)\n",
        "   y_pred = self.model.predict(X_test_scaled)\n",
        "   evaluator = Evaluator(y_test, y_pred)\n",
        "   evaluator.report()"
      ],
      "metadata": {
        "id": "Is0iQ03iI_yV"
      },
      "execution_count": 17,
      "outputs": []
    },
    {
      "cell_type": "code",
      "source": [
        "# Step 7: Execute the Pipeline\n",
        "app = MLApplication()\n",
        "app.run()"
      ],
      "metadata": {
        "colab": {
          "base_uri": "https://localhost:8080/"
        },
        "id": "qK1iMs6YKBJ1",
        "outputId": "3ad95f27-0ee3-4a43-9fae-0e153d6acaa5"
      },
      "execution_count": 23,
      "outputs": [
        {
          "output_type": "stream",
          "name": "stdout",
          "text": [
            " Classification Report:\n",
            "\n",
            "              precision    recall  f1-score   support\n",
            "\n",
            "           0       1.00      1.00      1.00        19\n",
            "           1       1.00      1.00      1.00        13\n",
            "           2       1.00      1.00      1.00        13\n",
            "\n",
            "    accuracy                           1.00        45\n",
            "   macro avg       1.00      1.00      1.00        45\n",
            "weighted avg       1.00      1.00      1.00        45\n",
            "\n"
          ]
        }
      ]
    },
    {
      "cell_type": "code",
      "source": [],
      "metadata": {
        "id": "6xPLyQB2LyWN"
      },
      "execution_count": null,
      "outputs": []
    }
  ]
}